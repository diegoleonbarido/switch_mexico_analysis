{
 "metadata": {
  "name": ""
 },
 "nbformat": 3,
 "nbformat_minor": 0,
 "worksheets": [
  {
   "cells": [
    {
     "cell_type": "code",
     "collapsed": false,
     "input": [
      "import requests\n",
      "from datetime import datetime\n",
      "import json"
     ],
     "language": "python",
     "metadata": {},
     "outputs": [],
     "prompt_number": 1
    },
    {
     "cell_type": "code",
     "collapsed": false,
     "input": [
      "url = 'http://cenace.gob.mx/GraficaDemanda.aspx/obtieneValoresTotal'\n",
      "headers = {\n",
      "        'Accept':'application/json, */*; q=0.01',\n",
      "        'Accept-Encoding':'gzip, deflate',\n",
      "        'Accept-Language': 'en-US,en;q=0.5',\n",
      "        'Cache-Control':'max-age=0',\n",
      "        'Content-Type':'application/json;charset=UTF-8',\n",
      "        'Host':'cenace.gob.mx',\n",
      "        'Referer':' http://cenace.gob.mx/GraficaDemanda.aspx',\n",
      "        'User-Agent':'Mozilla/5.0 (X11; Ubuntu; Linux x86_64; rv:44.0) Gecko/20100101 Firefox/44.0',\n",
      "        'X-Requested-With':'XMLHttpRequest',\n",
      "        'Connection':'keep-alive',\n",
      "        } \n",
      "\n",
      "for load_zone_data in range(1,11):\n",
      "    \n",
      "    values= \"{'gerencia':\" + \"'\" + str(load_zone_data) + \"'}\"\n",
      "    s = requests.session()\n",
      "    r = s.post(url, data=values,headers=headers)\n",
      "    data = json.loads(r.content)\n",
      "    \n",
      "    if load_zone_data == 1:\n",
      "        baja_norte = json.loads(data['d'])\n",
      "    elif load_zone_data == 2:\n",
      "        baja_sur = json.loads(data['d'])\n",
      "    elif load_zone_data == 3:\n",
      "        sin_central = json.loads(data['d'])\n",
      "    elif load_zone_data == 4:\n",
      "        sin_noreste = json.loads(data['d'])\n",
      "    elif load_zone_data == 5:\n",
      "        sin_noroeste = json.loads(data['d'])\n",
      "    elif load_zone_data == 6:\n",
      "        sin_norte = json.loads(data['d'])\n",
      "    elif load_zone_data == 7:\n",
      "        sin_occidental = json.loads(data['d'])\n",
      "    elif load_zone_data == 8:\n",
      "        sin_oriental = json.loads(data['d'])\n",
      "    elif load_zone_data == 9:\n",
      "        sin_peninsular = json.loads(data['d'])    \n",
      "    elif load_zone_data == 10:\n",
      "        sin = json.loads(data['d'])    \n",
      "        \n",
      "day_data_allzones = {\"baja_norte\" : baja_norte,\"baja_sur\": baja_sur,\"sin_central\":sin_central,\"sin_noreste\":sin_noreste,\"sin_noroeste\":sin_noroeste,\"sin_norte\":sin_norte,\"sin_occidental\":sin_occidental,\"sin_oriental\":sin_oriental,\"sin_peninsular\":sin_peninsular,\"sin\":sin}\n",
      "\n",
      "with open(datetime.now().strftime(\"%d_%m_%Y_mexico\")+'.txt', 'w') as outfile:\n",
      "    json.dump(day_data_allzones, outfile)"
     ],
     "language": "python",
     "metadata": {},
     "outputs": [],
     "prompt_number": 78
    },
    {
     "cell_type": "code",
     "collapsed": false,
     "input": [],
     "language": "python",
     "metadata": {},
     "outputs": []
    }
   ],
   "metadata": {}
  }
 ]
}